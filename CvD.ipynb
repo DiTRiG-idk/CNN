{
 "cells": [
  {
   "cell_type": "code",
   "execution_count": 1,
   "metadata": {
    "executionInfo": {
     "elapsed": 927,
     "status": "ok",
     "timestamp": 1619907234626,
     "user": {
      "displayName": "DiTRiG",
      "photoUrl": "",
      "userId": "02521077677366823106"
     },
     "user_tz": -180
    },
    "id": "4msWwT-HdAV2"
   },
   "outputs": [],
   "source": [
    "import numpy as np # linear algebra\n",
    "import pandas as pd # data processing, CSV file I/O (e.g. pd.read_csv)\n",
    "import os\n",
    "import time\n",
    "import torch\n",
    "import torch.nn as nn\n",
    "import cv2\n",
    "import matplotlib.pyplot as plt\n",
    "import torchvision\n",
    "from torch.utils.data import Dataset, DataLoader, ConcatDataset\n",
    "from torchvision import transforms\n",
    "import copy\n",
    "import tqdm\n",
    "from multiprocessing import Process, freeze_support\n",
    "from PIL import Image\n",
    "\n",
    "%matplotlib inline"
   ]
  },
  {
   "cell_type": "code",
   "execution_count": 2,
   "metadata": {
    "executionInfo": {
     "elapsed": 915,
     "status": "ok",
     "timestamp": 1619907310938,
     "user": {
      "displayName": "DiTRiG",
      "photoUrl": "",
      "userId": "02521077677366823106"
     },
     "user_tz": -180
    },
    "id": "P7r15dtddFli"
   },
   "outputs": [
    {
     "ename": "FileNotFoundError",
     "evalue": "[WinError 3] Системе не удается найти указанный путь: '/content/drive/MyDrive/db1/train'",
     "output_type": "error"
    }
   ],
   "source": [
    "t0 = time.time()\n",
    "train_dir = '/content/drive/MyDrive/db1/train' #directory with train database\n",
    "test_dir = '/content/drive/MyDrive/db1/test' #directory with test database\n",
    "train_files = os.listdir(train_dir)\n",
    "test_files = os.listdir(test_dir)"
   ]
  },
  {
   "cell_type": "code",
   "execution_count": 4,
   "metadata": {
    "executionInfo": {
     "elapsed": 616,
     "status": "ok",
     "timestamp": 1619907312891,
     "user": {
      "displayName": "DiTRiG",
      "photoUrl": "",
      "userId": "02521077677366823106"
     },
     "user_tz": -180
    },
    "id": "wXSxGTFTdGt4"
   },
   "outputs": [],
   "source": [
    "class CatDogDataset(Dataset):\n",
    "    def __init__(self, file_list, dir, mode='train', transform = None):\n",
    "        self.file_list = file_list\n",
    "        self.dir = dir\n",
    "        self.mode= mode\n",
    "        self.transform = transform\n",
    "        if self.mode == 'train':\n",
    "            if 'dog' in self.file_list[0]:\n",
    "                self.label = 1\n",
    "            else:\n",
    "                self.label = 0\n",
    "            \n",
    "    def __len__(self):\n",
    "        return len(self.file_list)\n",
    "    \n",
    "    def __getitem__(self, idx):\n",
    "        img = Image.open(os.path.join(self.dir, self.file_list[idx]))\n",
    "        if self.transform:\n",
    "            img = self.transform(img)\n",
    "        if self.mode == 'train':\n",
    "            img = img.numpy()\n",
    "            return img.astype('float32'), self.label\n",
    "        else:\n",
    "            img = img.numpy()\n",
    "            return img.astype('float32'), self.file_list[idx]\n",
    "    \n",
    "    '''def __getitem__(self, index):\n",
    "        return torch.FloatTensor([1.0, 2.0, 3.0])'''\n",
    "    \n",
    "    '''def __getitem__(self, idx):\n",
    "        img = images[idx]\n",
    "        label = labels[idx]\n",
    "\n",
    "        return img, label'''\n",
    "        \n",
    "data_transform = transforms.Compose([\n",
    "    transforms.Resize(256),\n",
    "    transforms.ColorJitter(),\n",
    "    transforms.RandomCrop(224),\n",
    "    transforms.RandomHorizontalFlip(),\n",
    "    transforms.Resize(128),\n",
    "    transforms.ToTensor()\n",
    "])\n",
    "\n",
    "cat_files = [tf for tf in train_files if 'cat' in tf]\n",
    "dog_files = [tf for tf in train_files if 'dog' in tf]\n",
    "\n",
    "cats = CatDogDataset(cat_files, train_dir, transform = data_transform)\n",
    "dogs = CatDogDataset(dog_files, train_dir, transform = data_transform)\n",
    "\n",
    "catdogs = ConcatDataset([cats, dogs])"
   ]
  },
  {
   "cell_type": "code",
   "execution_count": 5,
   "metadata": {
    "colab": {
     "base_uri": "https://localhost:8080/"
    },
    "executionInfo": {
     "elapsed": 598,
     "status": "ok",
     "timestamp": 1619907316663,
     "user": {
      "displayName": "DiTRiG",
      "photoUrl": "",
      "userId": "02521077677366823106"
     },
     "user_tz": -180
    },
    "id": "GAm5p0g_dIlZ",
    "outputId": "3069b127-3ba2-466a-d5a3-a7479984d90c"
   },
   "outputs": [
    {
     "name": "stdout",
     "output_type": "stream",
     "text": [
      "<torch.utils.data.dataloader.DataLoader object at 0x7f51d2c8fb90>\n"
     ]
    }
   ],
   "source": [
    "dataloaders = torch.utils.data.DataLoader(catdogs, batch_size = 32, shuffle=True, num_workers=2)\n",
    "print(dataloaders)"
   ]
  },
  {
   "cell_type": "code",
   "execution_count": 7,
   "metadata": {
    "executionInfo": {
     "elapsed": 938,
     "status": "ok",
     "timestamp": 1619907324302,
     "user": {
      "displayName": "DiTRiG",
      "photoUrl": "",
      "userId": "02521077677366823106"
     },
     "user_tz": -180
    },
    "id": "aiJdygeRdKEe"
   },
   "outputs": [],
   "source": [
    "device = 'cuda'\n",
    "model = torchvision.models.densenet121(pretrained=True)"
   ]
  },
  {
   "cell_type": "code",
   "execution_count": 8,
   "metadata": {
    "executionInfo": {
     "elapsed": 13584,
     "status": "ok",
     "timestamp": 1619907339856,
     "user": {
      "displayName": "DiTRiG",
      "photoUrl": "",
      "userId": "02521077677366823106"
     },
     "user_tz": -180
    },
    "id": "N8rY5h4HdLRY"
   },
   "outputs": [],
   "source": [
    "samples, labels = iter(dataloaders).next()"
   ]
  },
  {
   "cell_type": "code",
   "execution_count": 9,
   "metadata": {
    "executionInfo": {
     "elapsed": 11177,
     "status": "ok",
     "timestamp": 1619907353296,
     "user": {
      "displayName": "DiTRiG",
      "photoUrl": "",
      "userId": "02521077677366823106"
     },
     "user_tz": -180
    },
    "id": "lHJ3bM-BdNKJ"
   },
   "outputs": [],
   "source": [
    "num_ftrs = model.classifier.in_features\n",
    "model.classifier = nn.Sequential(\n",
    "    nn.Linear(num_ftrs, 500),\n",
    "    nn.Linear(500, 2)\n",
    ")\n",
    "\n",
    "model = model.to(device)\n",
    "criterion = nn.CrossEntropyLoss()\n",
    "optimizer = torch.optim.Adam(model.parameters(), lr=0.002, amsgrad=True)\n",
    "scheduler = torch.optim.lr_scheduler.MultiStepLR(optimizer, milestones=[500,1000,1500], gamma=0.5)"
   ]
  },
  {
   "cell_type": "code",
   "execution_count": 10,
   "metadata": {
    "colab": {
     "base_uri": "https://localhost:8080/",
     "height": 485
    },
    "executionInfo": {
     "elapsed": 3222817,
     "status": "ok",
     "timestamp": 1619910577855,
     "user": {
      "displayName": "DiTRiG",
      "photoUrl": "",
      "userId": "02521077677366823106"
     },
     "user_tz": -180
    },
    "id": "PoHR9r_MdOeS",
    "outputId": "5e0c8ca9-374d-4d13-d769-3e7d027480d3"
   },
   "outputs": [
    {
     "name": "stdout",
     "output_type": "stream",
     "text": [
      "[Epoch 1/3] Iteration 200 -> Train Loss: 0.6079, Accuracy: 0.719\n",
      "[Epoch 1/3] Iteration 400 -> Train Loss: 0.4029, Accuracy: 0.844\n",
      "[Epoch 1/3] Iteration 600 -> Train Loss: 0.3173, Accuracy: 0.781\n",
      "[Epoch 2/3] Iteration 800 -> Train Loss: 0.2428, Accuracy: 0.875\n",
      "[Epoch 2/3] Iteration 1000 -> Train Loss: 0.2061, Accuracy: 0.938\n",
      "[Epoch 2/3] Iteration 1200 -> Train Loss: 0.1695, Accuracy: 0.938\n",
      "[Epoch 2/3] Iteration 1400 -> Train Loss: 0.1561, Accuracy: 0.969\n",
      "[Epoch 3/3] Iteration 1600 -> Train Loss: 0.1575, Accuracy: 0.906\n",
      "[Epoch 3/3] Iteration 1800 -> Train Loss: 0.1344, Accuracy: 1.000\n",
      "[Epoch 3/3] Iteration 2000 -> Train Loss: 0.1155, Accuracy: 0.969\n",
      "[Epoch 3/3] Iteration 2200 -> Train Loss: 0.1281, Accuracy: 0.969\n"
     ]
    },
    {
     "data": {
      "image/png": "[encoded data removed]",
      "text/plain": [
       "<Figure size 432x288 with 1 Axes>"
      ]
     },
     "metadata": {
      "needs_background": "light",
      "tags": []
     },
     "output_type": "display_data"
    },
    {
     "name": "stdout",
     "output_type": "stream",
     "text": [
      "Train time %.3f sec 3221.6249463558197\n"
     ]
    }
   ],
   "source": [
    "epochs = 3\n",
    "itr = 1\n",
    "p_itr = 200\n",
    "model.train()\n",
    "total_loss = 0\n",
    "loss_list = []\n",
    "acc_list = []\n",
    "t1 = time.time()\n",
    "for epoch in range(epochs):\n",
    "    for samples, labels in dataloaders:\n",
    "        samples, labels = samples.to(device), labels.to(device)\n",
    "        optimizer.zero_grad()\n",
    "        output = model(samples)\n",
    "        loss = criterion(output, labels)\n",
    "        loss.backward()\n",
    "        optimizer.step()\n",
    "        total_loss += loss.item()\n",
    "        scheduler.step()\n",
    "        if itr%p_itr == 0:\n",
    "            pred = torch.argmax(output, dim=1)\n",
    "            correct = pred.eq(labels)\n",
    "            acc = torch.mean(correct.float())\n",
    "            print('[Epoch {}/{}] Iteration {} -> Train Loss: {:.4f}, Accuracy: {:.3f}'.format(epoch+1, epochs, itr, total_loss/p_itr, acc))\n",
    "            loss_list.append(total_loss/p_itr)\n",
    "            acc_list.append(acc)\n",
    "            total_loss = 0\n",
    "            \n",
    "        itr += 1\n",
    "\n",
    "plt.plot(loss_list, label='loss')\n",
    "plt.plot(acc_list, label='accuracy')\n",
    "plt.legend()\n",
    "plt.title('training loss and accuracy')\n",
    "plt.show()\n",
    "print('Train time %.3f sec', time.time()-t1)"
   ]
  },
  {
   "cell_type": "code",
   "execution_count": null,
   "metadata": {
    "id": "Ae4GVJkfdS7H"
   },
   "outputs": [],
   "source": [
    "filename_pth = 'ckpt_densenet121_catdog.pth'\n",
    "torch.save(model.state_dict(), filename_pth)\n",
    "\n",
    "test_transform = transforms.Compose([\n",
    "    transforms.Resize((128,128)),\n",
    "    transforms.ToTensor()\n",
    "])\n",
    "\n",
    "testset = CatDogDataset(test_files, test_dir, mode='test', transform = test_transform)\n",
    "testloader = torch.utils.data.DataLoader(testset, batch_size = 32, shuffle=False, num_workers=2)"
   ]
  },
  {
   "cell_type": "code",
   "execution_count": null,
   "metadata": {
    "id": "Yntu6rkku8aM"
   },
   "outputs": [],
   "source": [
    "model.eval()\n",
    "fn_list = []\n",
    "pred_list = []\n",
    "for x, fn in testloader:\n",
    "    with torch.no_grad():\n",
    "        x = x.to(device)\n",
    "        output = model(x)\n",
    "        pred = torch.argmax(output, dim=1)\n",
    "        fn_list += [n[:-4] for n in fn]\n",
    "        pred_list += [p.item() for p in pred]\n",
    "\n",
    "submission = pd.DataFrame({\"id\":fn_list, \"label\":pred_list})\n",
    "submission.to_csv('preds_densenet121.csv', index=False)"
   ]
  },
  {
   "cell_type": "code",
   "execution_count": null,
   "metadata": {
    "id": "aUeq5Xnd7nf0"
   },
   "outputs": [],
   "source": [
    "samples, _ = iter(testloader).next()\n",
    "samples = samples.to(device)\n",
    "fig = plt.figure(figsize=(24, 16))\n",
    "fig.tight_layout()\n",
    "output = model(samples[:24])\n",
    "pred = torch.argmax(output, dim=1)\n",
    "pred = [p.item() for p in pred]\n",
    "ad = {0:'cat', 1:'dog'}\n",
    "for num, sample in enumerate(samples[:24]):\n",
    "    plt.subplot(4,6,num+1)\n",
    "    plt.title(ad[pred[num]])\n",
    "    plt.axis('off')\n",
    "    sample = sample.cpu().numpy()\n",
    "    plt.imshow(np.transpose(sample, (1,2,0)))\n",
    "plt.show()\n",
    "print('Total time ', time.time()-t0)"
   ]
  }
 ],
 "metadata": {
  "accelerator": "GPU",
  "colab": {
   "authorship_tag": "ABX9TyOk4HApr7vvp2wWJXxXhcD1",
   "collapsed_sections": [],
   "mount_file_id": "1XvS9ID6qx5Nn-mCSbkPZk8AKr0gnCnnS",
   "name": "CvD.ipynb",
   "provenance": []
  },
  "kernelspec": {
   "display_name": "Python 3",
   "language": "python",
   "name": "python3"
  },
  "language_info": {
   "codemirror_mode": {
    "name": "ipython",
    "version": 3
   },
   "file_extension": ".py",
   "mimetype": "text/x-python",
   "name": "python",
   "nbconvert_exporter": "python",
   "pygments_lexer": "ipython3",
   "version": "3.8.8"
  }
 },
 "nbformat": 4,
 "nbformat_minor": 1
}
